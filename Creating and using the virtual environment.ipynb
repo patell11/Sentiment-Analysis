{
 "cells": [
  {
   "cell_type": "markdown",
   "metadata": {},
   "source": [
    "** To quickly create an environment using conda, you can type in the command:**\n",
    "\n",
    "** conda create --name your_env_name python=3.7 -y **\n",
    "\n",
    "\n",
    "In this command, the ‘python=3.7’ portion specifies which version of python\n",
    "I want to set up the environment in; you can change the version to whatever suits your needs. In other snippets you see online, you may see ‘-n’ instead of ‘ — name’; they mean exactly the same thing. The ‘-y’ flag essentially tells the command line to say ‘yes’ to all of the prompts that follow; it isn’t strictly necessary but it does save you a little hassle."
   ]
  },
  {
   "cell_type": "markdown",
   "metadata": {},
   "source": [
    "So now that you have an environment created and assuming that you’re using conda, let’s quickly verify that it exists using the command:\n",
    "\n",
    "** conda info --envs**\n",
    "\n",
    "This command should display the current environments, which may look something like this:\n",
    "practice /Users/your_username/anaconda3/envs/practice\n",
    "base /Users/your_username/anaconda3\n",
    "your_env_name /Users/your_username/anaconda3/envs/your_env_name\n",
    "\n",
    "After confirming that you created the environment, you can now actually use it. We can accomplish this by typing (assuming your environment is underneath your base):\n",
    "\n",
    "**conda activate your_env_name**"
   ]
  },
  {
   "cell_type": "markdown",
   "metadata": {},
   "source": [
    "Ref --- https://towardsdatascience.com/getting-started-with-python-environments-using-conda-32e9f2779307"
   ]
  },
  {
   "cell_type": "markdown",
   "metadata": {},
   "source": [
    "Begin by activating the virtual environment:\n",
    "\n",
    "** source my_env/bin/activate** "
   ]
  },
  {
   "cell_type": "markdown",
   "metadata": {},
   "source": [
    "Ref -- https://www.digitalocean.com/community/tutorials/how-to-set-up-jupyter-notebook-with-python-3-on-ubuntu-18-04"
   ]
  },
  {
   "cell_type": "markdown",
   "metadata": {},
   "source": [
    "https://towardsdatascience.com/virtual-environments-104c62d48c54"
   ]
  },
  {
   "cell_type": "code",
   "execution_count": null,
   "metadata": {
    "collapsed": true
   },
   "outputs": [],
   "source": []
  }
 ],
 "metadata": {
  "kernelspec": {
   "display_name": "Python 3",
   "language": "python",
   "name": "python3"
  },
  "language_info": {
   "codemirror_mode": {
    "name": "ipython",
    "version": 3
   },
   "file_extension": ".py",
   "mimetype": "text/x-python",
   "name": "python",
   "nbconvert_exporter": "python",
   "pygments_lexer": "ipython3",
   "version": "3.6.1"
  }
 },
 "nbformat": 4,
 "nbformat_minor": 2
}
